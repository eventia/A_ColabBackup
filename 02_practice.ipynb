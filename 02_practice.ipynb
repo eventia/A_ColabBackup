{
  "nbformat": 4,
  "nbformat_minor": 0,
  "metadata": {
    "kernelspec": {
      "display_name": "Python 3",
      "language": "python",
      "name": "python3"
    },
    "language_info": {
      "codemirror_mode": {
        "name": "ipython",
        "version": 3
      },
      "file_extension": ".py",
      "mimetype": "text/x-python",
      "name": "python",
      "nbconvert_exporter": "python",
      "pygments_lexer": "ipython3",
      "version": "3.6.5"
    },
    "colab": {
      "name": "02_practice.ipynb",
      "provenance": [],
      "collapsed_sections": [],
      "include_colab_link": true
    }
  },
  "cells": [
    {
      "cell_type": "markdown",
      "metadata": {
        "id": "view-in-github",
        "colab_type": "text"
      },
      "source": [
        "<a href=\"https://colab.research.google.com/github/eventia/A_ColabBackup/blob/master/02_practice.ipynb\" target=\"_parent\"><img src=\"https://colab.research.google.com/assets/colab-badge.svg\" alt=\"Open In Colab\"/></a>"
      ]
    },
    {
      "cell_type": "code",
      "metadata": {
        "id": "eU7umPpgGOL8",
        "colab_type": "code",
        "colab": {}
      },
      "source": [
        "try:\n",
        "    if upload == True:\n",
        "        print('Data Uploaded')\n",
        "    else :\n",
        "        print('Data uploaded Error')\n",
        "except :\n",
        "    upload = False\n",
        "    !git clone https://github.com/MLBasic/pandasBasicStudyData.git\n",
        "    %cd /content/pandasBasicStudyData/notebook/\n",
        "    upload = True"
      ],
      "execution_count": 0,
      "outputs": []
    },
    {
      "cell_type": "markdown",
      "metadata": {
        "id": "o33WaHf0uHsg",
        "colab_type": "text"
      },
      "source": [
        "# 갭마인더 데이터 집합 불러오기"
      ]
    },
    {
      "cell_type": "code",
      "metadata": {
        "id": "44dudf-FuHsh",
        "colab_type": "code",
        "colab": {}
      },
      "source": [
        ""
      ],
      "execution_count": 0,
      "outputs": []
    },
    {
      "cell_type": "markdown",
      "metadata": {
        "id": "2lvp06dQuHsk",
        "colab_type": "text"
      },
      "source": [
        "# 불러온 데이터 집합 살펴보기"
      ]
    },
    {
      "cell_type": "code",
      "metadata": {
        "id": "n72TuVrKuHsk",
        "colab_type": "code",
        "colab": {}
      },
      "source": [
        ""
      ],
      "execution_count": 0,
      "outputs": []
    },
    {
      "cell_type": "markdown",
      "metadata": {
        "id": "GVAUENKYuHsm",
        "colab_type": "text"
      },
      "source": [
        "# 열 단위로 데이터 추출하기"
      ]
    },
    {
      "cell_type": "code",
      "metadata": {
        "id": "9_Mlys9zuHsn",
        "colab_type": "code",
        "colab": {}
      },
      "source": [
        ""
      ],
      "execution_count": 0,
      "outputs": []
    },
    {
      "cell_type": "markdown",
      "metadata": {
        "id": "wHD-MlK2uHsp",
        "colab_type": "text"
      },
      "source": [
        "# loc 속성으로 행 단위 데이터 추출하기"
      ]
    },
    {
      "cell_type": "code",
      "metadata": {
        "id": "UewVHsOpuHsp",
        "colab_type": "code",
        "colab": {}
      },
      "source": [
        ""
      ],
      "execution_count": 0,
      "outputs": []
    },
    {
      "cell_type": "markdown",
      "metadata": {
        "id": "znAZBcFouHss",
        "colab_type": "text"
      },
      "source": [
        "# tail과 loc는 조금 달라요!"
      ]
    },
    {
      "cell_type": "code",
      "metadata": {
        "id": "K2BB--AZuHss",
        "colab_type": "code",
        "colab": {}
      },
      "source": [
        ""
      ],
      "execution_count": 0,
      "outputs": []
    },
    {
      "cell_type": "markdown",
      "metadata": {
        "id": "SoEHcnMjuHsu",
        "colab_type": "text"
      },
      "source": [
        "# iloc 속성으로 행 단위 데이터 추출하기"
      ]
    },
    {
      "cell_type": "code",
      "metadata": {
        "id": "LSXbwUCDuHsv",
        "colab_type": "code",
        "colab": {}
      },
      "source": [
        ""
      ],
      "execution_count": 0,
      "outputs": []
    },
    {
      "cell_type": "markdown",
      "metadata": {
        "id": "5pfyJyqvuHsx",
        "colab_type": "text"
      },
      "source": [
        "# 파이썬 슬라이싱 구문을 조합하여 원하는 데이터 추출하기"
      ]
    },
    {
      "cell_type": "code",
      "metadata": {
        "id": "aKIT4YhxuHsy",
        "colab_type": "code",
        "colab": {}
      },
      "source": [
        ""
      ],
      "execution_count": 0,
      "outputs": []
    },
    {
      "cell_type": "markdown",
      "metadata": {
        "id": "Q94FCdlnuHs1",
        "colab_type": "text"
      },
      "source": [
        "# iloc 속성과 range 메서드로 원하는 데이터 추출하기"
      ]
    },
    {
      "cell_type": "code",
      "metadata": {
        "id": "MNrAzXx4uHs2",
        "colab_type": "code",
        "colab": {}
      },
      "source": [
        ""
      ],
      "execution_count": 0,
      "outputs": []
    },
    {
      "cell_type": "markdown",
      "metadata": {
        "id": "ejhltnZHuHs4",
        "colab_type": "text"
      },
      "source": [
        "# 열 지정값에 파이썬 슬라이싱을 사용하여 원하는 데이터 추출하기"
      ]
    },
    {
      "cell_type": "code",
      "metadata": {
        "id": "1pXy0tlnuHs4",
        "colab_type": "code",
        "colab": {}
      },
      "source": [
        ""
      ],
      "execution_count": 0,
      "outputs": []
    },
    {
      "cell_type": "markdown",
      "metadata": {
        "id": "6N_w0lJSuHs7",
        "colab_type": "text"
      },
      "source": [
        "# loc, iloc 자유자재로 사용하기"
      ]
    },
    {
      "cell_type": "code",
      "metadata": {
        "id": "QNaKXy1WuHs7",
        "colab_type": "code",
        "colab": {}
      },
      "source": [
        ""
      ],
      "execution_count": 0,
      "outputs": []
    },
    {
      "cell_type": "markdown",
      "metadata": {
        "id": "SfPMNSYSuHs-",
        "colab_type": "text"
      },
      "source": [
        "# 그룹화한 데이터의 평균 구하기"
      ]
    },
    {
      "cell_type": "code",
      "metadata": {
        "id": "_3IlsBoAuHs-",
        "colab_type": "code",
        "colab": {}
      },
      "source": [
        ""
      ],
      "execution_count": 0,
      "outputs": []
    },
    {
      "cell_type": "markdown",
      "metadata": {
        "id": "BYoShG3JuHtA",
        "colab_type": "text"
      },
      "source": [
        "# 그룹화한 데이터의 개수 세어보기"
      ]
    },
    {
      "cell_type": "code",
      "metadata": {
        "id": "udGUGEUtuHtA",
        "colab_type": "code",
        "colab": {}
      },
      "source": [
        ""
      ],
      "execution_count": 0,
      "outputs": []
    },
    {
      "cell_type": "markdown",
      "metadata": {
        "id": "MEL8kBaJuHtC",
        "colab_type": "text"
      },
      "source": [
        "# 그래프 만들기"
      ]
    },
    {
      "cell_type": "code",
      "metadata": {
        "id": "wbZhGqrEuHtD",
        "colab_type": "code",
        "colab": {}
      },
      "source": [
        ""
      ],
      "execution_count": 0,
      "outputs": []
    }
  ]
}