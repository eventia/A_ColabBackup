{
  "nbformat": 4,
  "nbformat_minor": 0,
  "metadata": {
    "kernelspec": {
      "display_name": "Python 3",
      "language": "python",
      "name": "python3"
    },
    "language_info": {
      "codemirror_mode": {
        "name": "ipython",
        "version": 3
      },
      "file_extension": ".py",
      "mimetype": "text/x-python",
      "name": "python",
      "nbconvert_exporter": "python",
      "pygments_lexer": "ipython3",
      "version": "3.7.3"
    },
    "colab": {
      "name": "A06_Residual Network 구현 및 학습_after.ipynb",
      "provenance": [],
      "collapsed_sections": [],
      "include_colab_link": true
    },
    "accelerator": "GPU"
  },
  "cells": [
    {
      "cell_type": "markdown",
      "metadata": {
        "id": "view-in-github",
        "colab_type": "text"
      },
      "source": [
        "<a href=\"https://colab.research.google.com/github/eventia/A_ColabBackup/blob/master/A06_Residual_Network_%EA%B5%AC%ED%98%84_%EB%B0%8F_%ED%95%99%EC%8A%B5_after.ipynb\" target=\"_parent\"><img src=\"https://colab.research.google.com/assets/colab-badge.svg\" alt=\"Open In Colab\"/></a>"
      ]
    },
    {
      "cell_type": "markdown",
      "metadata": {
        "id": "3qQnKWlfcCni",
        "colab_type": "text"
      },
      "source": [
        "## Residual Network 구현 및 학습"
      ]
    },
    {
      "cell_type": "code",
      "metadata": {
        "id": "hLQi4KgJcCnj",
        "colab_type": "code",
        "colab": {}
      },
      "source": [
        "import tensorflow as tf\n",
        "import numpy as np"
      ],
      "execution_count": null,
      "outputs": []
    },
    {
      "cell_type": "markdown",
      "metadata": {
        "id": "BvDAp5hmcCnn",
        "colab_type": "text"
      },
      "source": [
        "## 하이퍼 파라미터"
      ]
    },
    {
      "cell_type": "code",
      "metadata": {
        "id": "-VQRpKVucCno",
        "colab_type": "code",
        "colab": {}
      },
      "source": [
        "EPOCHS = 10"
      ],
      "execution_count": null,
      "outputs": []
    },
    {
      "cell_type": "markdown",
      "metadata": {
        "id": "PdT2U-uhcCnq",
        "colab_type": "text"
      },
      "source": [
        "## Residual Unit 구현"
      ]
    },
    {
      "cell_type": "markdown",
      "metadata": {
        "id": "n9csiJouKG57",
        "colab_type": "text"
      },
      "source": [
        "Batch Nrmalization + ReLu + Convolution 의 조합"
      ]
    },
    {
      "cell_type": "code",
      "metadata": {
        "id": "b5hZ0HovcCnq",
        "colab_type": "code",
        "colab": {}
      },
      "source": [
        "class ResidualUnit(tf.keras.Model):\n",
        "    def __init__(self, filter_in, filter_out, kernel_size):\n",
        "        super(ResidualUnit, self).__init__()\n",
        "        self.bn1 = tf.keras.layers.BatchNormalization()\n",
        "        self.conv1 = tf.keras.layers.Conv2D(filter_out, kernel_size, padding='same')\n",
        "        \n",
        "        self.bn2 = tf.keras.layers.BatchNormalization()\n",
        "        self.conv2 = tf.keras.layers.Conv2D(filter_out, kernel_size, padding='same')\n",
        "        \n",
        "        if filter_in == filter_out:\n",
        "            self.identity = lambda x: x\n",
        "        else:\n",
        "            self.identity = tf.keras.layers.Conv2D(filter_out, (1,1), padding='same')\n",
        "\n",
        "    def call(self, x, training=False, mask=None):\n",
        "        h = self.bn1(x, training=training)\n",
        "        h = tf.nn.relu(h)\n",
        "        h = self.conv1(h)\n",
        "        \n",
        "        h = self.bn2(h, training=training)\n",
        "        h = tf.nn.relu(h)\n",
        "        h = self.conv2(h)\n",
        "        return self.identity(x) + h"
      ],
      "execution_count": null,
      "outputs": []
    },
    {
      "cell_type": "markdown",
      "metadata": {
        "id": "Rjw7YeUVcCns",
        "colab_type": "text"
      },
      "source": [
        "## Residual Layer 구현"
      ]
    },
    {
      "cell_type": "code",
      "metadata": {
        "id": "zVqBBkVjcCnt",
        "colab_type": "code",
        "colab": {}
      },
      "source": [
        "class ResnetLayer(tf.keras.Model):\n",
        "    def __init__(self, filter_in, filters, kernel_size):\n",
        "        super(ResnetLayer, self).__init__()\n",
        "        self.sequence = list()\n",
        "        for f_in, f_out in zip([filter_in] + list(filters), filters):\n",
        "            self.sequence.append(ResidualUnit(f_in, f_out, kernel_size))\n",
        "\n",
        "    def call(self, x, training=False, mask=None):\n",
        "        for unit in self.sequence:\n",
        "            x = unit(x, training=training)\n",
        "        return x"
      ],
      "execution_count": null,
      "outputs": []
    },
    {
      "cell_type": "markdown",
      "metadata": {
        "id": "TLViT8KDcCnv",
        "colab_type": "text"
      },
      "source": [
        "## 모델 정의"
      ]
    },
    {
      "cell_type": "code",
      "metadata": {
        "id": "fesTete-cCnv",
        "colab_type": "code",
        "colab": {}
      },
      "source": [
        "class ResNet(tf.keras.Model):\n",
        "    def __init__(self):\n",
        "        super(ResNet, self).__init__()\n",
        "        self.conv1 = tf.keras.layers.Conv2D(8, (3, 3), padding='same', activation='relu') # 28x28x8\n",
        "        \n",
        "        self.res1 = ResnetLayer(8, (16, 16), (3, 3)) # 28x28x16\n",
        "        self.pool1 = tf.keras.layers.MaxPool2D((2, 2)) # 14x14x16\n",
        "        \n",
        "        self.res2 = ResnetLayer(16, (32, 32), (3, 3)) # 14x14x32\n",
        "        self.pool2 = tf.keras.layers.MaxPool2D((2, 2)) # 7x7x32\n",
        "        \n",
        "        self.res3 = ResnetLayer(32, (64, 64), (3, 3)) # 7x7x64\n",
        "        \n",
        "        self.flatten = tf.keras.layers.Flatten()\n",
        "        self.dense1 = tf.keras.layers.Dense(128, activation='relu')\n",
        "        self.dense2 = tf.keras.layers.Dense(10, activation='softmax')\n",
        "        \n",
        "    def call(self, x, training=False, mask=None):\n",
        "        x = self.conv1(x)\n",
        "        \n",
        "        x = self.res1(x, training=training)\n",
        "        x = self.pool1(x)\n",
        "        x = self.res2(x, training=training)\n",
        "        x = self.pool2(x)\n",
        "        x = self.res3(x, training=training)\n",
        "        \n",
        "        x = self.flatten(x)\n",
        "        x = self.dense1(x)\n",
        "        return self.dense2(x)\n",
        "        "
      ],
      "execution_count": null,
      "outputs": []
    },
    {
      "cell_type": "markdown",
      "metadata": {
        "id": "7I5RZOi9cCnx",
        "colab_type": "text"
      },
      "source": [
        "## 학습, 테스트 루프 정의"
      ]
    },
    {
      "cell_type": "code",
      "metadata": {
        "id": "pdwaVUbScCny",
        "colab_type": "code",
        "colab": {}
      },
      "source": [
        "# Implement training loop\n",
        "@tf.function\n",
        "def train_step(model, images, labels, loss_object, optimizer, train_loss, train_accuracy):\n",
        "    with tf.GradientTape() as tape:\n",
        "        predictions = model(images, training=True)\n",
        "        loss = loss_object(labels, predictions)\n",
        "    gradients = tape.gradient(loss, model.trainable_variables)\n",
        "\n",
        "    optimizer.apply_gradients(zip(gradients, model.trainable_variables))\n",
        "    train_loss(loss)\n",
        "    train_accuracy(labels, predictions)\n",
        "\n",
        "# Implement algorithm test\n",
        "@tf.function\n",
        "def test_step(model, images, labels, loss_object, test_loss, test_accuracy):\n",
        "    predictions = model(images, training=False)\n",
        "\n",
        "    t_loss = loss_object(labels, predictions)\n",
        "    test_loss(t_loss)\n",
        "    test_accuracy(labels, predictions)"
      ],
      "execution_count": null,
      "outputs": []
    },
    {
      "cell_type": "markdown",
      "metadata": {
        "id": "HDZNUu6McCn0",
        "colab_type": "text"
      },
      "source": [
        "## 데이터셋 준비\n"
      ]
    },
    {
      "cell_type": "code",
      "metadata": {
        "id": "Oi-No_lNcCn0",
        "colab_type": "code",
        "colab": {
          "base_uri": "https://localhost:8080/",
          "height": 54
        },
        "outputId": "6147a927-a5cd-4974-8a0e-d5be032182d0"
      },
      "source": [
        "mnist = tf.keras.datasets.mnist\n",
        "\n",
        "(x_train, y_train), (x_test, y_test) = mnist.load_data()\n",
        "x_train, x_test = x_train / 255.0, x_test / 255.0\n",
        "\n",
        "x_train = x_train[..., tf.newaxis].astype(np.float32)\n",
        "x_test = x_test[..., tf.newaxis].astype(np.float32)\n",
        "\n",
        "train_ds = tf.data.Dataset.from_tensor_slices((x_train, y_train)).shuffle(10000).batch(32)\n",
        "test_ds = tf.data.Dataset.from_tensor_slices((x_test, y_test)).batch(32)"
      ],
      "execution_count": null,
      "outputs": [
        {
          "output_type": "stream",
          "text": [
            "Downloading data from https://storage.googleapis.com/tensorflow/tf-keras-datasets/mnist.npz\n",
            "11493376/11490434 [==============================] - 0s 0us/step\n"
          ],
          "name": "stdout"
        }
      ]
    },
    {
      "cell_type": "markdown",
      "metadata": {
        "id": "3k_PE4lBcCn2",
        "colab_type": "text"
      },
      "source": [
        "## 학습 환경 정의\n",
        "### 모델 생성, 손실함수, 최적화 알고리즘, 평가지표 정의"
      ]
    },
    {
      "cell_type": "code",
      "metadata": {
        "id": "aYGhB5ihcCn3",
        "colab_type": "code",
        "colab": {}
      },
      "source": [
        "# Create model\n",
        "model = ResNet()\n",
        "\n",
        "# Define loss and optimizer\n",
        "loss_object = tf.keras.losses.SparseCategoricalCrossentropy()\n",
        "optimizer = tf.keras.optimizers.Adam()\n",
        "\n",
        "# Define performance metrics\n",
        "train_loss = tf.keras.metrics.Mean(name='train_loss')\n",
        "train_accuracy = tf.keras.metrics.SparseCategoricalAccuracy(name='train_accuracy')\n",
        "\n",
        "test_loss = tf.keras.metrics.Mean(name='test_loss')\n",
        "test_accuracy = tf.keras.metrics.SparseCategoricalAccuracy(name='test_accuracy')"
      ],
      "execution_count": null,
      "outputs": []
    },
    {
      "cell_type": "markdown",
      "metadata": {
        "id": "_6hKBSMxcCn4",
        "colab_type": "text"
      },
      "source": [
        "## 학습 루프 동작"
      ]
    },
    {
      "cell_type": "code",
      "metadata": {
        "id": "CEQM7SHacCn5",
        "colab_type": "code",
        "colab": {
          "base_uri": "https://localhost:8080/",
          "height": 201
        },
        "outputId": "f3aabfa0-302f-407f-e77f-e761c4c410fe"
      },
      "source": [
        "for epoch in range(EPOCHS):\n",
        "    for images, labels in train_ds:\n",
        "        train_step(model, images, labels, loss_object, optimizer, train_loss, train_accuracy)\n",
        "\n",
        "    for test_images, test_labels in test_ds:\n",
        "        test_step(model, test_images, test_labels, loss_object, test_loss, test_accuracy)\n",
        "\n",
        "    template = 'Epoch {}, Loss: {}, Accuracy: {}, Test Loss: {}, Test Accuracy: {}'\n",
        "    print(template.format(epoch + 1,\n",
        "                          train_loss.result(),\n",
        "                          train_accuracy.result() * 100,\n",
        "                          test_loss.result(),\n",
        "                          test_accuracy.result() * 100))\n",
        "    train_loss.reset_states()\n",
        "    train_accuracy.reset_states()\n",
        "    test_loss.reset_states()\n",
        "    test_accuracy.reset_states()"
      ],
      "execution_count": null,
      "outputs": [
        {
          "output_type": "stream",
          "text": [
            "Epoch 1, Loss: 0.14284874498844147, Accuracy: 96.03833770751953, Test Loss: 0.055733464658260345, Test Accuracy: 98.41999816894531\n",
            "Epoch 2, Loss: 0.06676425784826279, Accuracy: 98.15166473388672, Test Loss: 0.05692290514707565, Test Accuracy: 98.3499984741211\n",
            "Epoch 3, Loss: 0.04972554370760918, Accuracy: 98.55333709716797, Test Loss: 0.05305534601211548, Test Accuracy: 98.48999786376953\n",
            "Epoch 4, Loss: 0.0402228869497776, Accuracy: 98.88333129882812, Test Loss: 0.07263701409101486, Test Accuracy: 98.04999542236328\n",
            "Epoch 5, Loss: 0.03207464888691902, Accuracy: 99.04000091552734, Test Loss: 0.0377671904861927, Test Accuracy: 98.81999969482422\n",
            "Epoch 6, Loss: 0.029776524752378464, Accuracy: 99.13500213623047, Test Loss: 0.0357208289206028, Test Accuracy: 99.08999633789062\n",
            "Epoch 7, Loss: 0.0265518631786108, Accuracy: 99.23833465576172, Test Loss: 0.053578902035951614, Test Accuracy: 98.5199966430664\n",
            "Epoch 8, Loss: 0.025532616302371025, Accuracy: 99.28500366210938, Test Loss: 0.03351375088095665, Test Accuracy: 99.22000122070312\n",
            "Epoch 9, Loss: 0.019780298694968224, Accuracy: 99.40666198730469, Test Loss: 0.03006798028945923, Test Accuracy: 99.1500015258789\n",
            "Epoch 10, Loss: 0.021297909319400787, Accuracy: 99.3883285522461, Test Loss: 0.03283651918172836, Test Accuracy: 99.22000122070312\n"
          ],
          "name": "stdout"
        }
      ]
    }
  ]
}