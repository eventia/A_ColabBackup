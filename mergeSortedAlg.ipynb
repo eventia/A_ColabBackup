{
  "nbformat": 4,
  "nbformat_minor": 0,
  "metadata": {
    "colab": {
      "name": "mergeSortedAlg.ipynb",
      "version": "0.3.2",
      "provenance": [],
      "collapsed_sections": [],
      "include_colab_link": true
    },
    "kernelspec": {
      "name": "python3",
      "display_name": "Python 3"
    }
  },
  "cells": [
    {
      "cell_type": "markdown",
      "metadata": {
        "id": "view-in-github",
        "colab_type": "text"
      },
      "source": [
        "<a href=\"https://colab.research.google.com/github/eventia/Air_Hockey_Robot_EVO/blob/master/mergeSortedAlg.ipynb\" target=\"_parent\"><img src=\"https://colab.research.google.com/assets/colab-badge.svg\" alt=\"Open In Colab\"/></a>"
      ]
    },
    {
      "cell_type": "code",
      "metadata": {
        "id": "42QNgB-oxbJ2",
        "colab_type": "code",
        "colab": {
          "base_uri": "https://localhost:8080/",
          "height": 35
        },
        "outputId": "198f1c87-3adf-4116-da88-1fb7a04bc2ae"
      },
      "source": [
        "def merge_sorted(arr):\n",
        "    if len(arr)>1:\n",
        "        mid = len(arr)//2\n",
        "        left = arr[:mid]\n",
        "        right = arr[mid:]\n",
        "        l = merge_sorted(left)\n",
        "        r = merge_sorted(right)\n",
        "        return merge(l, r)\n",
        "    else:\n",
        "        return arr\n",
        "        \n",
        "def merge(left, right):\n",
        "    i = 0\n",
        "    j = 0\n",
        "    arr = []\n",
        "    \n",
        "    while (i<len(left)) & (j<len(right)):\n",
        "        if left[i] < right[j]:\n",
        "            arr.append(left[i])\n",
        "            i+=1\n",
        "        else:\n",
        "            arr.append(right[j])\n",
        "            j+=1\n",
        "    #ㅇㅇㅇ\n",
        "    while (i<len(left)):\n",
        "        arr.append(left[i])\n",
        "        i+=1\n",
        "    #\n",
        "    while (j<len(right)):\n",
        "        arr.append(right[j])\n",
        "        j+=1\n",
        "        \n",
        "    return arr\n",
        "    \n",
        "\n",
        "arr = [3, 5, 1, 2, 9, 6, 4, 5, 7]\n",
        "print(merge_sorted(arr))"
      ],
      "execution_count": 1,
      "outputs": [
        {
          "output_type": "stream",
          "text": [
            "[1, 2, 3, 4, 5, 5, 6, 7, 9]\n"
          ],
          "name": "stdout"
        }
      ]
    }
  ]
}